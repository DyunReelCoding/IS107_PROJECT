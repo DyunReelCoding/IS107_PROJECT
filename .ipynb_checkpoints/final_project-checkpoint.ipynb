{
 "cells": [
  {
   "cell_type": "code",
   "execution_count": null,
   "id": "ad209976-d10d-4881-a7e1-2d58705b7c7f",
   "metadata": {},
   "outputs": [],
   "source": [
    "import pandas as pd\n",
    "\n",
    "# Load dataset\n",
    "df = pd.read_excel('Online Retail.xlsx')"
   ]
  },
  {
   "cell_type": "code",
   "execution_count": 5,
   "id": "2c7f500c-3243-4ece-9a45-0e9f3f1be757",
   "metadata": {},
   "outputs": [
    {
     "name": "stdout",
     "output_type": "stream",
     "text": [
      "<class 'pandas.core.frame.DataFrame'>\n",
      "RangeIndex: 541909 entries, 0 to 541908\n",
      "Data columns (total 8 columns):\n",
      " #   Column       Non-Null Count   Dtype         \n",
      "---  ------       --------------   -----         \n",
      " 0   InvoiceNo    541909 non-null  object        \n",
      " 1   StockCode    541909 non-null  object        \n",
      " 2   Description  540455 non-null  object        \n",
      " 3   Quantity     541909 non-null  int64         \n",
      " 4   InvoiceDate  541909 non-null  datetime64[ns]\n",
      " 5   UnitPrice    541909 non-null  float64       \n",
      " 6   CustomerID   406829 non-null  float64       \n",
      " 7   Country      541909 non-null  object        \n",
      "dtypes: datetime64[ns](1), float64(2), int64(1), object(4)\n",
      "memory usage: 33.1+ MB\n",
      "None\n",
      "            Quantity                    InvoiceDate      UnitPrice  \\\n",
      "count  541909.000000                         541909  541909.000000   \n",
      "mean        9.552250  2011-07-04 13:34:57.156386048       4.611114   \n",
      "min    -80995.000000            2010-12-01 08:26:00  -11062.060000   \n",
      "25%         1.000000            2011-03-28 11:34:00       1.250000   \n",
      "50%         3.000000            2011-07-19 17:17:00       2.080000   \n",
      "75%        10.000000            2011-10-19 11:27:00       4.130000   \n",
      "max     80995.000000            2011-12-09 12:50:00   38970.000000   \n",
      "std       218.081158                            NaN      96.759853   \n",
      "\n",
      "          CustomerID  \n",
      "count  406829.000000  \n",
      "mean    15287.690570  \n",
      "min     12346.000000  \n",
      "25%     13953.000000  \n",
      "50%     15152.000000  \n",
      "75%     16791.000000  \n",
      "max     18287.000000  \n",
      "std      1713.600303  \n",
      "InvoiceNo           0\n",
      "StockCode           0\n",
      "Description      1454\n",
      "Quantity            0\n",
      "InvoiceDate         0\n",
      "UnitPrice           0\n",
      "CustomerID     135080\n",
      "Country             0\n",
      "dtype: int64\n",
      "5268\n"
     ]
    }
   ],
   "source": [
    "# Quick overview of the dataset\n",
    "print(df.info())\n",
    "print(df.describe())\n",
    "\n",
    "# Check for missing values\n",
    "print(df.isnull().sum())\n",
    "\n",
    "# Check for duplicates\n",
    "print(df.duplicated().sum())\n"
   ]
  },
  {
   "cell_type": "code",
   "execution_count": 13,
   "id": "18599c42-4dca-439b-a43e-e5c5e735fefa",
   "metadata": {},
   "outputs": [],
   "source": [
    "# Drop rows with missing CustomerID (optional, depending on requirement)\n",
    "df_clean = df.dropna(subset=['CustomerID'])\n"
   ]
  },
  {
   "cell_type": "code",
   "execution_count": 14,
   "id": "d3416921-1e2c-4463-8b3a-71f39ca53a5e",
   "metadata": {},
   "outputs": [],
   "source": [
    "# Use .loc to avoid the SettingWithCopyWarning\n",
    "df_clean.loc[:, 'Description'] = df_clean['Description'].fillna('Unknown')\n"
   ]
  },
  {
   "cell_type": "code",
   "execution_count": 15,
   "id": "47a915e8-2960-4f8d-9232-bfd79c061d77",
   "metadata": {},
   "outputs": [],
   "source": [
    "# Remove invalid transactions (Quantity and UnitPrice)\n",
    "df_clean = df_clean[(df_clean['Quantity'] > 0) & (df_clean['UnitPrice'] > 0)]\n"
   ]
  },
  {
   "cell_type": "code",
   "execution_count": 16,
   "id": "cd85bf97-e369-4efe-8b6e-a39a814a891b",
   "metadata": {},
   "outputs": [],
   "source": [
    "# Drop duplicate rows\n",
    "df_clean = df_clean.drop_duplicates()\n"
   ]
  },
  {
   "cell_type": "code",
   "execution_count": 17,
   "id": "2254b5a4-9a16-4d50-aa9d-dcce9af151e6",
   "metadata": {},
   "outputs": [
    {
     "name": "stdout",
     "output_type": "stream",
     "text": [
      "<class 'pandas.core.frame.DataFrame'>\n",
      "Index: 392692 entries, 0 to 541908\n",
      "Data columns (total 8 columns):\n",
      " #   Column       Non-Null Count   Dtype         \n",
      "---  ------       --------------   -----         \n",
      " 0   InvoiceNo    392692 non-null  object        \n",
      " 1   StockCode    392692 non-null  object        \n",
      " 2   Description  392692 non-null  object        \n",
      " 3   Quantity     392692 non-null  int64         \n",
      " 4   InvoiceDate  392692 non-null  datetime64[ns]\n",
      " 5   UnitPrice    392692 non-null  float64       \n",
      " 6   CustomerID   392692 non-null  float64       \n",
      " 7   Country      392692 non-null  object        \n",
      "dtypes: datetime64[ns](1), float64(2), int64(1), object(4)\n",
      "memory usage: 27.0+ MB\n",
      "None\n",
      "            Quantity                    InvoiceDate      UnitPrice  \\\n",
      "count  392692.000000                         392692  392692.000000   \n",
      "mean       13.119702  2011-07-10 19:13:07.771892480       3.125914   \n",
      "min         1.000000            2010-12-01 08:26:00       0.001000   \n",
      "25%         2.000000            2011-04-07 11:12:00       1.250000   \n",
      "50%         6.000000            2011-07-31 12:02:00       1.950000   \n",
      "75%        12.000000            2011-10-20 12:53:00       3.750000   \n",
      "max     80995.000000            2011-12-09 12:50:00    8142.750000   \n",
      "std       180.492832                            NaN      22.241836   \n",
      "\n",
      "          CustomerID  \n",
      "count  392692.000000  \n",
      "mean    15287.843865  \n",
      "min     12346.000000  \n",
      "25%     13955.000000  \n",
      "50%     15150.000000  \n",
      "75%     16791.000000  \n",
      "max     18287.000000  \n",
      "std      1713.539549  \n"
     ]
    }
   ],
   "source": [
    "# Confirm changes\n",
    "print(df_clean.info())\n",
    "print(df_clean.describe())\n"
   ]
  },
  {
   "cell_type": "code",
   "execution_count": 19,
   "id": "e282bc6c-ebcc-4bcf-95b1-c596ef22604a",
   "metadata": {},
   "outputs": [
    {
     "data": {
      "text/plain": [
       "692"
      ]
     },
     "execution_count": 19,
     "metadata": {},
     "output_type": "execute_result"
    }
   ],
   "source": [
    "from sqlalchemy import create_engine\n",
    "import psycopg2\n",
    "\n",
    "# Create engine for PostgreSQL connection\n",
    "# Replace 'localhost' and '5432' if your PostgreSQL instance is running on a different host or port\n",
    "engine = create_engine('postgresql+psycopg2://postgres@localhost:5432/retail_data_warehouse')\n",
    "\n",
    "# Load the cleaned pandas DataFrame into PostgreSQL\n",
    "df_clean.to_sql('cleaned_online_retail_data', engine, index=False, if_exists='replace')"
   ]
  },
  {
   "cell_type": "code",
   "execution_count": 37,
   "id": "fc4ccaed-2c09-4551-8388-5b917aacaec8",
   "metadata": {},
   "outputs": [
    {
     "data": {
      "text/html": [
       "\n",
       "        <iframe\n",
       "            width=\"100%\"\n",
       "            height=\"650\"\n",
       "            src=\"http://127.0.0.1:8050/\"\n",
       "            frameborder=\"0\"\n",
       "            allowfullscreen\n",
       "            \n",
       "        ></iframe>\n",
       "        "
      ],
      "text/plain": [
       "<IPython.lib.display.IFrame at 0x197e6e26390>"
      ]
     },
     "metadata": {},
     "output_type": "display_data"
    }
   ],
   "source": [
    "# Import necessary libraries\n",
    "import pandas as pd\n",
    "from sqlalchemy import create_engine\n",
    "import dash\n",
    "from dash import dcc, html\n",
    "import plotly.express as px\n",
    "\n",
    "# Set up the connection (replace with your credentials)\n",
    "engine = create_engine('postgresql+psycopg2://postgres@localhost:5432/retail_data_warehouse')\n",
    "\n",
    "# Query to retrieve data from fact_sales\n",
    "query_sales = 'SELECT * FROM fact_sales;'\n",
    "data_sales = pd.read_sql(query_sales, engine)\n",
    "\n",
    "# Calculate total sales\n",
    "data_sales['total_sales'] = data_sales['quantity'] * data_sales['unit_price']\n",
    "total_sales = data_sales['total_sales'].sum()\n",
    "\n",
    "# Query for top-selling products\n",
    "top_selling_products = data_sales.groupby('stock_code').agg(total_quantity=('quantity', 'sum')).reset_index()\n",
    "top_selling_products = top_selling_products.nlargest(10, 'total_quantity')\n",
    "\n",
    "# Query to retrieve total sales by region (country)\n",
    "query_sales_by_region = '''\n",
    "SELECT \n",
    "    c.country,\n",
    "    SUM(fs.\"quantity\" * fs.\"unit_price\") AS total_sales\n",
    "FROM \n",
    "    fact_sales fs\n",
    "JOIN \n",
    "    dim_customer c ON fs.customer_id = c.customer_id\n",
    "GROUP BY \n",
    "    c.country\n",
    "ORDER BY \n",
    "    total_sales DESC\n",
    "LIMIT 10;  -- Adjust limit as necessary\n",
    "'''\n",
    "sales_by_region = pd.read_sql(query_sales_by_region, engine)\n",
    "\n",
    "# Initialize the Dash app\n",
    "app = dash.Dash(__name__)\n",
    "\n",
    "# Layout of the dashboard\n",
    "app.layout = html.Div([\n",
    "    html.H1(\"Sales Dashboard\"),\n",
    "    \n",
    "    # Display total sales\n",
    "    html.Div(f\"Total Sales: ${total_sales:,.2f}\", style={'font-size': '24px', 'margin': '20px'}),\n",
    "    \n",
    "    # Graph for top-selling products\n",
    "    dcc.Graph(\n",
    "        id='top-selling-products',\n",
    "        figure=px.bar(\n",
    "            top_selling_products, \n",
    "            x='stock_code', \n",
    "            y='total_quantity', \n",
    "            title='Top Selling Products',\n",
    "            labels={'total_quantity': 'Quantity Sold', 'stock_code': 'Product Code'},\n",
    "            color='total_quantity',\n",
    "            template='plotly_white'\n",
    "        )\n",
    "    ),\n",
    "\n",
    "    # Graph for total sales by region\n",
    "    dcc.Graph(\n",
    "        id='sales-by-region',\n",
    "        figure=px.bar(\n",
    "            sales_by_region, \n",
    "            x='country', \n",
    "            y='total_sales', \n",
    "            title='Total Sales by Region',\n",
    "            labels={'total_sales': 'Total Sales ($)', 'country': 'Region'},\n",
    "            color='total_sales',\n",
    "            template='plotly_white'\n",
    "        )\n",
    "    )\n",
    "])\n",
    "\n",
    "# Run the app\n",
    "if __name__ == '__main__':\n",
    "    app.run_server(debug=True)\n"
   ]
  },
  {
   "cell_type": "code",
   "execution_count": null,
   "id": "5b4fd426-2abc-42be-a3e4-d4f951ede32e",
   "metadata": {},
   "outputs": [],
   "source": []
  }
 ],
 "metadata": {
  "kernelspec": {
   "display_name": "Python 3 (ipykernel)",
   "language": "python",
   "name": "python3"
  },
  "language_info": {
   "codemirror_mode": {
    "name": "ipython",
    "version": 3
   },
   "file_extension": ".py",
   "mimetype": "text/x-python",
   "name": "python",
   "nbconvert_exporter": "python",
   "pygments_lexer": "ipython3",
   "version": "3.12.2"
  }
 },
 "nbformat": 4,
 "nbformat_minor": 5
}
